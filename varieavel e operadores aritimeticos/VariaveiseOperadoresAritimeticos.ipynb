{
  "nbformat": 4,
  "nbformat_minor": 0,
  "metadata": {
    "colab": {
      "provenance": [],
      "authorship_tag": "ABX9TyNcmKQ1lYPsmlznaGlGA52i",
      "include_colab_link": true
    },
    "kernelspec": {
      "name": "python3",
      "display_name": "Python 3"
    },
    "language_info": {
      "name": "python"
    }
  },
  "cells": [
    {
      "cell_type": "markdown",
      "metadata": {
        "id": "view-in-github",
        "colab_type": "text"
      },
      "source": [
        "<a href=\"https://colab.research.google.com/github/leticiavasconcelos1/logicaprogramacaophyton/blob/main/varieavel%20e%20operadores%20aritimeticos/VariaveiseOperadoresAritimeticos.ipynb\" target=\"_parent\"><img src=\"https://colab.research.google.com/assets/colab-badge.svg\" alt=\"Open In Colab\"/></a>"
      ]
    },
    {
      "cell_type": "markdown",
      "source": [
        "# Criando variaveis\n",
        "\n"
      ],
      "metadata": {
        "id": "V-Oh542gBe5H"
      }
    },
    {
      "cell_type": "code",
      "execution_count": null,
      "metadata": {
        "colab": {
          "base_uri": "https://localhost:8080/"
        },
        "id": "msMcSIQeBA4W",
        "outputId": "e1b3ee14-cdca-4feb-e45d-6bb397193bfa"
      },
      "outputs": [
        {
          "output_type": "stream",
          "name": "stdout",
          "text": [
            "A areá do quadrado é:  25\n"
          ]
        }
      ],
      "source": [
        "#entrada\n",
        "l =\n",
        "# processamento\n",
        "a=l*l\n",
        "# saida\n",
        "print (\"A areá do quadrado é: \", a)"
      ]
    },
    {
      "cell_type": "markdown",
      "source": [
        "### area do retangulo\n"
      ],
      "metadata": {
        "id": "MCOT3W_zJ7F2"
      }
    },
    {
      "cell_type": "code",
      "source": [
        "# entrada\n",
        "b = float (input(\"digite a base do retângulo: \"))\n",
        "h = float (input(\"digite a altura do retângulo: \"))\n",
        "\n",
        "# processamento\n",
        "area= b*h\n",
        "\n",
        "# saida\n",
        "print(\"A área do retângulo é: \", area)"
      ],
      "metadata": {
        "colab": {
          "base_uri": "https://localhost:8080/"
        },
        "id": "lra1TZV6K0hG",
        "outputId": "546f48a1-c495-4b57-c5be-86252006f9c9"
      },
      "execution_count": null,
      "outputs": [
        {
          "output_type": "stream",
          "name": "stdout",
          "text": [
            "digite a base do retângulo: 4\n",
            "digite a altura do retângulo: 2\n",
            "A área do retângulo é:  8.0\n"
          ]
        }
      ]
    },
    {
      "cell_type": "markdown",
      "source": [
        "### area do triangulo"
      ],
      "metadata": {
        "id": "rc3Plbx6LLnr"
      }
    },
    {
      "cell_type": "code",
      "source": [
        "# entrada\n",
        "bt= float (input(\"digite a base de triângulo: \"))\n",
        "ht= float(input(\"dogite a altura do triângulo \"))\n",
        "\n",
        "#processamento\n",
        "areat= (bt*ht)/2\n",
        "\n",
        "#saida\n",
        "print(\" A área do triangulo é: \", areat)\n"
      ],
      "metadata": {
        "colab": {
          "base_uri": "https://localhost:8080/"
        },
        "id": "OBYEQImkLQ-y",
        "outputId": "9b0c3db2-7371-4b62-f026-aeefc2c2d055"
      },
      "execution_count": null,
      "outputs": [
        {
          "output_type": "stream",
          "name": "stdout",
          "text": [
            "digite a base de triângulo: 4\n",
            "dogite a altura do triângulo 2\n",
            " A área do triangulo é:  4.0\n"
          ]
        }
      ]
    },
    {
      "cell_type": "markdown",
      "source": [
        "### area do trapezio"
      ],
      "metadata": {
        "id": "E_-w4KdVMThe"
      }
    },
    {
      "cell_type": "code",
      "source": [
        "# entrada\n",
        "bmaior= float(input(\"digite a base maior do trapezio: \"))\n",
        "bmenor= float(input(\"digite a base menor do trapezio: \"))\n",
        "htra= float(input(\"digite a altura do trapezio: \"))\n",
        "#processamneto\n",
        "areatra= ((bmaior+bmenor)*h)/2\n",
        "\n",
        "#saida\n",
        "print(\"A área do trapezio é: \", areatra)"
      ],
      "metadata": {
        "colab": {
          "base_uri": "https://localhost:8080/"
        },
        "id": "pMS3W6KMMjmm",
        "outputId": "c0f01df3-95fb-4830-d681-a4341aaad57b"
      },
      "execution_count": null,
      "outputs": [
        {
          "output_type": "stream",
          "name": "stdout",
          "text": [
            "digite a base maior do trapezio: 4\n",
            "digite a base menor do trapezio: 2\n",
            "digite a altura do trapezio: 2\n",
            "A área do trapezio é:  6.0\n"
          ]
        }
      ]
    },
    {
      "cell_type": "markdown",
      "source": [
        "### desafio parede"
      ],
      "metadata": {
        "id": "5KPxiak5Q4xW"
      }
    },
    {
      "cell_type": "code",
      "source": [
        "#entrada\n",
        "ha= float(input(\"digite a altura do azulejo: \"))\n",
        "la= float(input(\" digite a largura do azulejo: \"))\n",
        "hp= float(input(\"digite a altura da parede: \"))\n",
        "lp= float(input(\"digite a largura da parede: \"))\n",
        "\n",
        "#processamento\n",
        "ap= hp*lp\n",
        "\n",
        "\n",
        "##saida\n",
        "print(\" A area do parede é: \", ap,\"m\")\n",
        "\n",
        "#processamento\n",
        "aa= ha*la\n",
        "\n",
        "\n",
        "##saida\n",
        "print(\" A area do azulejo é: \", aa,\"cm\")\n",
        "\n",
        "#processamento\n",
        "aam=aa/100\n",
        "qa=ap/aam\n",
        "\n",
        "\n",
        "##saida\n",
        "print(\" Você precisará de: \", qa)"
      ],
      "metadata": {
        "colab": {
          "base_uri": "https://localhost:8080/"
        },
        "id": "pF4N-7DnQ_bF",
        "outputId": "c23c3aab-d73a-4c8e-a711-e05448697306"
      },
      "execution_count": null,
      "outputs": [
        {
          "output_type": "stream",
          "name": "stdout",
          "text": [
            "digite a altura do azulejo: 4\n",
            " digite a largura do azulejo: 3\n",
            "digite a altura da parede: 4\n",
            "digite a largura da parede: 6\n",
            " A area do parede é:  24.0 m\n",
            " A area do azulejo é:  12.0 cm\n",
            " Você precisará de:  200.0\n"
          ]
        }
      ]
    },
    {
      "cell_type": "markdown",
      "source": [
        "### area do circulo\n"
      ],
      "metadata": {
        "id": "Ua6kDizoVwIe"
      }
    },
    {
      "cell_type": "code",
      "source": [],
      "metadata": {
        "id": "rbXEnjs0Vzz9"
      },
      "execution_count": null,
      "outputs": []
    }
  ]
}